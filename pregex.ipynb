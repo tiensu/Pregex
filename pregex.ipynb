{
 "cells": [
  {
   "cell_type": "code",
   "execution_count": 1,
   "metadata": {},
   "outputs": [],
   "source": [
    "from pregex.core.quantifiers import Optional, OneOrMore, AtLeastAtMost\n",
    "from pregex.core.classes import AnyFrom, AnyDigit, AnyWhitespace, AnyButWhitespace, Any\n",
    "from pregex.core.tokens import Backslash\n",
    "from pregex.core.operators import Either\n",
    "from pregex.core.pre import Pregex"
   ]
  },
  {
   "attachments": {},
   "cell_type": "markdown",
   "metadata": {},
   "source": [
    "#### Capture URL"
   ]
  },
  {
   "cell_type": "code",
   "execution_count": 11,
   "metadata": {},
   "outputs": [
    {
     "data": {
      "text/plain": [
       "['mathdatasimplified.com/', 'https://github.com/khuyentran1401']"
      ]
     },
     "execution_count": 11,
     "metadata": {},
     "output_type": "execute_result"
    }
   ],
   "source": [
    "# use regex\n",
    "import re\n",
    "\n",
    "text = \"You can find me through my website mathdatasimplified.com/ or GitHub https://github.com/khuyentran1401\"\n",
    "re.findall(\"(?:https?\\:\\/\\/)?[^\\s]+(?:\\.com|\\.org)[^\\s]+\", text)"
   ]
  },
  {
   "cell_type": "code",
   "execution_count": 4,
   "metadata": {},
   "outputs": [
    {
     "data": {
      "text/plain": [
       "['https://github.com/khuyentran1401']"
      ]
     },
     "execution_count": 4,
     "metadata": {},
     "output_type": "execute_result"
    }
   ],
   "source": [
    "# use pregex\n",
    "text = \"You can find me through GitHub https://github.com/khuyentran1401\"\n",
    "\n",
    "pre = (\n",
    "    \"https://\"\n",
    "    + OneOrMore(AnyButWhitespace())\n",
    "    + Either(\".com\", \".org\")\n",
    "    + OneOrMore(AnyButWhitespace())\n",
    ")\n",
    "pre.get_matches(text)"
   ]
  },
  {
   "cell_type": "code",
   "execution_count": 5,
   "metadata": {},
   "outputs": [
    {
     "data": {
      "text/plain": [
       "['http://github.com/khuyentran1401']"
      ]
     },
     "execution_count": 5,
     "metadata": {},
     "output_type": "execute_result"
    }
   ],
   "source": [
    "from pregex.core.quantifiers import Optional\n",
    "\n",
    "text = \"You can find me through GitHub http://github.com/khuyentran1401\"\n",
    "\n",
    "pre = (\n",
    "    \"http\"\n",
    "    + Optional(\"s\")\n",
    "    + \"://\"\n",
    "    + OneOrMore(AnyButWhitespace())\n",
    "    + Either(\".com\", \".org\")\n",
    "    + OneOrMore(AnyButWhitespace())\n",
    ")\n",
    "pre.get_matches(text)"
   ]
  },
  {
   "attachments": {},
   "cell_type": "markdown",
   "metadata": {},
   "source": [
    "#### Match URL without a Scheme"
   ]
  },
  {
   "cell_type": "code",
   "execution_count": 6,
   "metadata": {},
   "outputs": [
    {
     "data": {
      "text/plain": [
       "['mathdatasimplified.com/', 'https://github.com/khuyentran1401']"
      ]
     },
     "execution_count": 6,
     "metadata": {},
     "output_type": "execute_result"
    }
   ],
   "source": [
    "text = \"You can find me through my website mathdatasimplified.com/ or GitHub https://github.com/khuyentran1401\"\n",
    "\n",
    "at_least_one_character_except_white_space = OneOrMore(AnyButWhitespace())\n",
    "optional_scheme = Optional(\"http\" + Optional(\"s\") + \"://\")\n",
    "domain_choice = Either(\".com\", \".org\")\n",
    "\n",
    "pre = (\n",
    "    optional_scheme\n",
    "    + at_least_one_character_except_white_space\n",
    "    + domain_choice\n",
    "    + at_least_one_character_except_white_space\n",
    ")\n",
    "pre.get_matches(text)"
   ]
  },
  {
   "cell_type": "code",
   "execution_count": 7,
   "metadata": {},
   "outputs": [
    {
     "data": {
      "text/plain": [
       "'(?:https?:\\\\/\\\\/)?\\\\S+(?:\\\\.com|\\\\.org)\\\\S+'"
      ]
     },
     "execution_count": 7,
     "metadata": {},
     "output_type": "execute_result"
    }
   ],
   "source": [
    "pre.get_pattern()"
   ]
  },
  {
   "attachments": {},
   "cell_type": "markdown",
   "metadata": {},
   "source": [
    "#### Capture Time"
   ]
  },
  {
   "cell_type": "code",
   "execution_count": 12,
   "metadata": {},
   "outputs": [
    {
     "data": {
      "text/plain": [
       "['6', '0', '0']"
      ]
     },
     "execution_count": 12,
     "metadata": {},
     "output_type": "execute_result"
    }
   ],
   "source": [
    "pre = AnyDigit()\n",
    "text = \"It is 6:00 pm now\"\n",
    "pre.get_matches(text)"
   ]
  },
  {
   "cell_type": "code",
   "execution_count": 13,
   "metadata": {},
   "outputs": [
    {
     "data": {
      "text/plain": [
       "['6:0']"
      ]
     },
     "execution_count": 13,
     "metadata": {},
     "output_type": "execute_result"
    }
   ],
   "source": [
    "pre = AnyDigit() + \":\" + AnyDigit()\n",
    "pre.get_matches(text)"
   ]
  },
  {
   "cell_type": "code",
   "execution_count": 14,
   "metadata": {},
   "outputs": [
    {
     "data": {
      "text/plain": [
       "['6:00']"
      ]
     },
     "execution_count": 14,
     "metadata": {},
     "output_type": "execute_result"
    }
   ],
   "source": [
    "pre = OneOrMore(AnyDigit()) + AnyFrom(\":\") + OneOrMore(AnyDigit())\n",
    "pre.get_matches(text)"
   ]
  },
  {
   "attachments": {},
   "cell_type": "markdown",
   "metadata": {},
   "source": [
    "#### Capture Phone Numbers"
   ]
  },
  {
   "cell_type": "code",
   "execution_count": 15,
   "metadata": {},
   "outputs": [
    {
     "data": {
      "text/plain": [
       "['3452352312', '345-235-2312', '345 235 2312', '345.235.2312']"
      ]
     },
     "execution_count": 15,
     "metadata": {},
     "output_type": "execute_result"
    }
   ],
   "source": [
    "text = \"My phone number is 3452352312 or 345-235-2312 or 345 235 2312 or 345.235.2312\"\n",
    "\n",
    "punctuation = AnyFrom(\"-\", \" \", \".\")\n",
    "optional_punctuation = Optional(punctuation)\n",
    "at_least_one_digit = OneOrMore(AnyDigit())\n",
    "\n",
    "pre = (\n",
    "    at_least_one_digit\n",
    "    + optional_punctuation\n",
    "    + at_least_one_digit\n",
    "    + optional_punctuation\n",
    "    + at_least_one_digit\n",
    ")\n",
    "pre.get_matches(text)"
   ]
  },
  {
   "cell_type": "code",
   "execution_count": 16,
   "metadata": {},
   "outputs": [
    {
     "data": {
      "text/plain": [
       "['3452352312',\n",
       " '345-235-2312',\n",
       " '(345) 235-2312',\n",
       " '345 235 2312',\n",
       " '345.235.2312']"
      ]
     },
     "execution_count": 16,
     "metadata": {},
     "output_type": "execute_result"
    }
   ],
   "source": [
    "text = \"My phone number is 3452352312 or 345-235-2312 or (345) 235-2312 or 345 235 2312 or 345.235.2312\"\n",
    "\n",
    "punctuation = AnyFrom(\"-\", \" \", \".\")\n",
    "optional_punctuation = Optional(punctuation)\n",
    "at_least_one_digit = OneOrMore(AnyDigit())\n",
    "\n",
    "pre = (\n",
    "    Optional(\"(\")\n",
    "    + at_least_one_digit\n",
    "    + Optional(\")\")\n",
    "    + optional_punctuation\n",
    "    + at_least_one_digit\n",
    "    + optional_punctuation\n",
    "    + at_least_one_digit\n",
    ")\n",
    "pre.get_matches(text)"
   ]
  },
  {
   "attachments": {},
   "cell_type": "markdown",
   "metadata": {},
   "source": [
    "#### Capture Email Address"
   ]
  },
  {
   "cell_type": "code",
   "execution_count": 18,
   "metadata": {},
   "outputs": [
    {
     "data": {
      "text/plain": [
       "['abcd@gmail.com']"
      ]
     },
     "execution_count": 18,
     "metadata": {},
     "output_type": "execute_result"
    }
   ],
   "source": [
    "text = \"My email is abcd@gmail.com\"\n",
    "\n",
    "pre = (\n",
    "    OneOrMore(AnyButWhitespace())\n",
    "    + \"@\"\n",
    "    + OneOrMore(Any())\n",
    "    + Either(\".com\", \".org\", \".io\", \".net\")\n",
    ")\n",
    "\n",
    "pre.get_matches(text)"
   ]
  }
 ],
 "metadata": {
  "kernelspec": {
   "display_name": "pregex",
   "language": "python",
   "name": "python3"
  },
  "language_info": {
   "codemirror_mode": {
    "name": "ipython",
    "version": 3
   },
   "file_extension": ".py",
   "mimetype": "text/x-python",
   "name": "python",
   "nbconvert_exporter": "python",
   "pygments_lexer": "ipython3",
   "version": "3.10.8"
  },
  "orig_nbformat": 4,
  "vscode": {
   "interpreter": {
    "hash": "6f4685c684b92e4bcbd47bbf27c3019d83d8a2c30949f00bfcf58e75fe030dc4"
   }
  }
 },
 "nbformat": 4,
 "nbformat_minor": 2
}
